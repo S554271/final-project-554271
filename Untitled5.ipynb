{
 "cells": [
  {
   "cell_type": "code",
   "execution_count": 1,
   "id": "3c14db60-1f88-4f57-955c-140b47ec4a2c",
   "metadata": {},
   "outputs": [
    {
     "name": "stdout",
     "output_type": "stream",
     "text": [
      "C:\\Users\\S554271\\venv\\Scripts\\python.exe\n"
     ]
    }
   ],
   "source": [
    "import sys\n",
    "print(sys.executable)"
   ]
  },
  {
   "cell_type": "code",
   "execution_count": 1,
   "id": "f9c24d48-4c2a-4155-9081-468fe5c4be82",
   "metadata": {},
   "outputs": [
    {
     "name": "stdout",
     "output_type": "stream",
     "text": [
      "2.2.3\n"
     ]
    }
   ],
   "source": [
    "import pandas as pd\n",
    "print(pd.__version__)"
   ]
  },
  {
   "cell_type": "code",
   "execution_count": 3,
   "id": "0b67cc3d-9e2e-422a-a948-6af17ec7258f",
   "metadata": {},
   "outputs": [
    {
     "name": "stdout",
     "output_type": "stream",
     "text": [
      "Starting data collection...\n",
      "Data fetched successfully\n",
      "Processed data for 235 locations\n",
      "Data successfully saved to vaccination_data.pkl\n",
      "\n",
      "Sample of collected data:\n"
     ]
    },
    {
     "data": {
      "text/html": [
       "<div>\n",
       "<style scoped>\n",
       "    .dataframe tbody tr th:only-of-type {\n",
       "        vertical-align: middle;\n",
       "    }\n",
       "\n",
       "    .dataframe tbody tr th {\n",
       "        vertical-align: top;\n",
       "    }\n",
       "\n",
       "    .dataframe thead th {\n",
       "        text-align: right;\n",
       "    }\n",
       "</style>\n",
       "<table border=\"1\" class=\"dataframe\">\n",
       "  <thead>\n",
       "    <tr style=\"text-align: right;\">\n",
       "      <th></th>\n",
       "      <th>location</th>\n",
       "      <th>date</th>\n",
       "      <th>total_vaccinations</th>\n",
       "      <th>people_vaccinated</th>\n",
       "      <th>people_fully_vaccinated</th>\n",
       "      <th>daily_vaccinations</th>\n",
       "      <th>data_collection_date</th>\n",
       "    </tr>\n",
       "  </thead>\n",
       "  <tbody>\n",
       "    <tr>\n",
       "      <th>0</th>\n",
       "      <td>Afghanistan</td>\n",
       "      <td>2021-02-22</td>\n",
       "      <td>0.0</td>\n",
       "      <td>0.0</td>\n",
       "      <td>NaN</td>\n",
       "      <td>NaN</td>\n",
       "      <td>2025-04-04 13:26:26.025292</td>\n",
       "    </tr>\n",
       "    <tr>\n",
       "      <th>1</th>\n",
       "      <td>Afghanistan</td>\n",
       "      <td>2021-02-23</td>\n",
       "      <td>NaN</td>\n",
       "      <td>NaN</td>\n",
       "      <td>NaN</td>\n",
       "      <td>1367.0</td>\n",
       "      <td>2025-04-04 13:26:26.025292</td>\n",
       "    </tr>\n",
       "    <tr>\n",
       "      <th>2</th>\n",
       "      <td>Afghanistan</td>\n",
       "      <td>2021-02-24</td>\n",
       "      <td>NaN</td>\n",
       "      <td>NaN</td>\n",
       "      <td>NaN</td>\n",
       "      <td>1367.0</td>\n",
       "      <td>2025-04-04 13:26:26.025292</td>\n",
       "    </tr>\n",
       "    <tr>\n",
       "      <th>3</th>\n",
       "      <td>Afghanistan</td>\n",
       "      <td>2021-02-25</td>\n",
       "      <td>NaN</td>\n",
       "      <td>NaN</td>\n",
       "      <td>NaN</td>\n",
       "      <td>1367.0</td>\n",
       "      <td>2025-04-04 13:26:26.025292</td>\n",
       "    </tr>\n",
       "    <tr>\n",
       "      <th>4</th>\n",
       "      <td>Afghanistan</td>\n",
       "      <td>2021-02-26</td>\n",
       "      <td>NaN</td>\n",
       "      <td>NaN</td>\n",
       "      <td>NaN</td>\n",
       "      <td>1367.0</td>\n",
       "      <td>2025-04-04 13:26:26.025292</td>\n",
       "    </tr>\n",
       "  </tbody>\n",
       "</table>\n",
       "</div>"
      ],
      "text/plain": [
       "      location       date  total_vaccinations  people_vaccinated  \\\n",
       "0  Afghanistan 2021-02-22                 0.0                0.0   \n",
       "1  Afghanistan 2021-02-23                 NaN                NaN   \n",
       "2  Afghanistan 2021-02-24                 NaN                NaN   \n",
       "3  Afghanistan 2021-02-25                 NaN                NaN   \n",
       "4  Afghanistan 2021-02-26                 NaN                NaN   \n",
       "\n",
       "   people_fully_vaccinated  daily_vaccinations       data_collection_date  \n",
       "0                      NaN                 NaN 2025-04-04 13:26:26.025292  \n",
       "1                      NaN              1367.0 2025-04-04 13:26:26.025292  \n",
       "2                      NaN              1367.0 2025-04-04 13:26:26.025292  \n",
       "3                      NaN              1367.0 2025-04-04 13:26:26.025292  \n",
       "4                      NaN              1367.0 2025-04-04 13:26:26.025292  "
      ]
     },
     "execution_count": 3,
     "metadata": {},
     "output_type": "execute_result"
    }
   ],
   "source": [
    "import requests\n",
    "import pandas as pd\n",
    "import pickle\n",
    "from datetime import datetime\n",
    "import sys\n",
    "import io  # Add this import for StringIO\n",
    "\n",
    "def fetch_owid_data():\n",
    "    url = \"https://raw.githubusercontent.com/owid/covid-19-data/master/public/data/vaccinations/vaccinations.csv\"\n",
    "    try:\n",
    "        response = requests.get(url, timeout=10)\n",
    "        response.raise_for_status()\n",
    "        return response.text\n",
    "    except requests.exceptions.RequestException as e:\n",
    "        print(f\"Error fetching data: {e}\")\n",
    "        sys.exit(1)\n",
    "\n",
    "def process_data(raw_data):\n",
    "    df = pd.read_csv(io.StringIO(raw_data))  # Use io.StringIO instead of pd.compat.StringIO\n",
    "    columns = [\n",
    "        'location', \n",
    "        'date',\n",
    "        'total_vaccinations',\n",
    "        'people_vaccinated',\n",
    "        'people_fully_vaccinated',\n",
    "        'daily_vaccinations'\n",
    "    ]\n",
    "    df = df[columns].dropna(subset=['location', 'date'])\n",
    "    df['date'] = pd.to_datetime(df['date'])\n",
    "    df['data_collection_date'] = datetime.now()\n",
    "    return df\n",
    "\n",
    "def save_data(df, filename=\"vaccination_data.pkl\"):\n",
    "    try:\n",
    "        with open(filename, 'wb') as f:\n",
    "            pickle.dump(df, f)\n",
    "        print(f\"Data successfully saved to {filename}\")\n",
    "    except Exception as e:\n",
    "        print(f\"Error saving data: {e}\")\n",
    "        sys.exit(1)\n",
    "\n",
    "print(\"Starting data collection...\")\n",
    "raw_data = fetch_owid_data()\n",
    "print(\"Data fetched successfully\")\n",
    "df = process_data(raw_data)\n",
    "print(f\"Processed data for {len(df['location'].unique())} locations\")\n",
    "save_data(df)\n",
    "print(\"\\nSample of collected data:\")\n",
    "df.head()"
   ]
  },
  {
   "cell_type": "code",
   "execution_count": null,
   "id": "5e517d5f-882a-44ac-a4e4-12dfc2ea4599",
   "metadata": {},
   "outputs": [],
   "source": []
  }
 ],
 "metadata": {
  "kernelspec": {
   "display_name": "Python 3 (ipykernel)",
   "language": "python",
   "name": "python3"
  },
  "language_info": {
   "codemirror_mode": {
    "name": "ipython",
    "version": 3
   },
   "file_extension": ".py",
   "mimetype": "text/x-python",
   "name": "python",
   "nbconvert_exporter": "python",
   "pygments_lexer": "ipython3",
   "version": "3.13.1"
  }
 },
 "nbformat": 4,
 "nbformat_minor": 5
}
